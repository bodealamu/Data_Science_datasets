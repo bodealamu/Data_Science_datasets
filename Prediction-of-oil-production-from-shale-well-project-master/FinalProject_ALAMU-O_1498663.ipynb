{
 "cells": [
  {
   "cell_type": "code",
   "execution_count": 144,
   "metadata": {
    "collapsed": false
   },
   "outputs": [],
   "source": [
    "# Import the libraries\n",
    "import pandas as pd\n",
    "import numpy as np\n",
    "import matplotlib.pyplot as plt\n",
    "import seaborn as sns\n",
    "%matplotlib inline\n",
    "\n",
    "from mpl_toolkits.mplot3d import Axes3D # Creating 3D plots\n",
    "from sklearn.feature_selection import RFE # Recursive feature extraction\n",
    "from sklearn.linear_model import LinearRegression # Linear regression\n",
    "from sklearn.cross_validation import train_test_split\n",
    "from sklearn.preprocessing import StandardScaler # Scaling data\n",
    "from sklearn import metrics # Calculating accuracy metrics\n",
    "from sklearn.svm import SVR # Support vector regressor\n",
    "from sklearn.tree import DecisionTreeRegressor # Decision tree regressor\n",
    "\n",
    "from sklearn.neural_network import MLPRegressor # Multilayer perceptron"
   ]
  },
  {
   "cell_type": "code",
   "execution_count": 145,
   "metadata": {
    "collapsed": true
   },
   "outputs": [],
   "source": [
    "# Import the training dataset\n",
    "data = pd.read_excel('IntroEngDataScienceFinalProjectTrainingData.xlsx')"
   ]
  },
  {
   "cell_type": "code",
   "execution_count": 146,
   "metadata": {
    "collapsed": false
   },
   "outputs": [
    {
     "name": "stdout",
     "output_type": "stream",
     "text": [
      "   WELL_ID         JOB_DESC_STAGING     PROPPANT_MESH_SIZE  \\\n",
      "0        2   Wolfcamp Day 1 Stage 5                  40/70   \n",
      "1        2   Wolfcamp Day 2 Stage 7                  40/70   \n",
      "2        2  Wolfcamp Day 4 Stage 16  Sand, White, 100 mesh   \n",
      "3        2   Wolfcamp Day 2 Stage 6                  40/70   \n",
      "4        2   Wolfcamp Day 2 Stage 7  Sand, White, 100 mesh   \n",
      "\n",
      "  PROPPANT_MESH_DESCRIPTION  PROPPANT_MASS_USED PROPPANT_MASS_UOM  \\\n",
      "0        Sand, White, 40/70                  72       CWT=132 lbs   \n",
      "1        Sand, White, 40/70                  78               CWT   \n",
      "2     Sand, White, 100 mesh                  99               CWT   \n",
      "3        Sand, White, 40/70                  75               CWT   \n",
      "4     Sand, White, 100 mesh                  77               CWT   \n",
      "\n",
      "   VOLUME_PUMPED_GALLONS  AVERAGE_STP AVERAGE_STP_UOM  FRACTURE_GRADIENT  \\\n",
      "0                 356493       4393.0             PSI               0.76   \n",
      "1                 483451       2287.0             PSI               0.76   \n",
      "2                 126599       3835.0             PSI               0.76   \n",
      "3                 356122       4417.0             PSI               0.76   \n",
      "4                 127084       2287.0             PSI               0.76   \n",
      "\n",
      "    ...    MIN_STP_UOM  MAX_STP MAX_STP_UOM  UPPER_PERF  LOWER_PERF  \\\n",
      "0   ...            PSI     7565         PSI        6151       14009   \n",
      "1   ...            PSI     5129         PSI        6151       14009   \n",
      "2   ...            PSI     6101         PSI        6151       14009   \n",
      "3   ...            PSI     5250         PSI        6151       14009   \n",
      "4   ...            PSI     5129         PSI        6151       14009   \n",
      "\n",
      "   TRUE_VERTICAL_DEPTH  WELL_HORZ_LENGTH  NET_PROD_DAYS LIQ_CUM_BBLS  GAS_CUM  \n",
      "0                 6888             14136            670        41307   320872  \n",
      "1                 6888             14136            670        41307   320872  \n",
      "2                 6888             14136            670        41307   320872  \n",
      "3                 6888             14136            670        41307   320872  \n",
      "4                 6888             14136            670        41307   320872  \n",
      "\n",
      "[5 rows x 28 columns]\n",
      "--------------------------------------------------------------\n",
      "WELL_ID                      0\n",
      "JOB_DESC_STAGING             0\n",
      "PROPPANT_MESH_SIZE           0\n",
      "PROPPANT_MESH_DESCRIPTION    0\n",
      "PROPPANT_MASS_USED           0\n",
      "PROPPANT_MASS_UOM            0\n",
      "VOLUME_PUMPED_GALLONS        0\n",
      "AVERAGE_STP                  0\n",
      "AVERAGE_STP_UOM              0\n",
      "FRACTURE_GRADIENT            0\n",
      "FRACTURE_GRADIENT_UOM        0\n",
      "MD_MIDDLE_PERFORATION        0\n",
      "MD_MIDDLE_PERFORATION_UOM    0\n",
      "TVD_DEPTH                    0\n",
      "TOP_DEPTH                    0\n",
      "WELL_LATITUDE                0\n",
      "WELL_LONGITUDE               0\n",
      "MIN_STP                      7\n",
      "MIN_STP_UOM                  0\n",
      "MAX_STP                      0\n",
      "MAX_STP_UOM                  0\n",
      "UPPER_PERF                   0\n",
      "LOWER_PERF                   0\n",
      "TRUE_VERTICAL_DEPTH          0\n",
      "WELL_HORZ_LENGTH             0\n",
      "NET_PROD_DAYS                0\n",
      "LIQ_CUM_BBLS                 0\n",
      "GAS_CUM                      0\n",
      "dtype: int64\n"
     ]
    }
   ],
   "source": [
    "print(data.head())\n",
    "print('--------------------------------------------------------------')\n",
    "print(data.isnull().sum()) # Check for missing values"
   ]
  },
  {
   "cell_type": "markdown",
   "metadata": {},
   "source": [
    "Basic Statistics and data cleaning."
   ]
  },
  {
   "cell_type": "code",
   "execution_count": 147,
   "metadata": {
    "collapsed": false
   },
   "outputs": [
    {
     "name": "stdout",
     "output_type": "stream",
     "text": [
      "           WELL_ID  PROPPANT_MASS_USED  VOLUME_PUMPED_GALLONS  AVERAGE_STP  \\\n",
      "count  1179.000000         1179.000000            1179.000000  1179.000000   \n",
      "mean     13.569126          432.751484          128396.463953  4982.507634   \n",
      "std       7.421526          465.101241           88212.514668   853.011956   \n",
      "min       2.000000            1.000000             528.000000    76.000000   \n",
      "25%       7.000000          189.000000           50259.500000  4431.000000   \n",
      "50%      14.000000          330.000000          100477.000000  4942.000000   \n",
      "75%      21.000000          538.500000          187370.000000  5497.000000   \n",
      "max      26.000000         2292.000000          483451.000000  7778.000000   \n",
      "\n",
      "       FRACTURE_GRADIENT  MD_MIDDLE_PERFORATION    TVD_DEPTH     TOP_DEPTH  \\\n",
      "count        1179.000000            1179.000000  1179.000000   1179.000000   \n",
      "mean            0.760814           10468.521628  6642.436811  14176.510602   \n",
      "std             0.019168            2289.698857   727.062446   1543.329280   \n",
      "min             0.720000            5528.000000  4972.000000   9395.000000   \n",
      "25%             0.750000            8662.000000  6439.000000  14027.000000   \n",
      "50%             0.760000           10142.000000  6526.000000  14182.000000   \n",
      "75%             0.760000           12303.500000  7083.000000  15216.000000   \n",
      "max             0.800000           16011.000000  8108.000000  16186.000000   \n",
      "\n",
      "       WELL_LATITUDE  WELL_LONGITUDE       MIN_STP      MAX_STP   UPPER_PERF  \\\n",
      "count    1179.000000     1179.000000   1172.000000  1179.000000  1179.000000   \n",
      "mean       31.125462     -101.196234   3759.523891  6148.922816  6894.980492   \n",
      "std         0.132159        0.255270   1622.044311  1293.874605   655.841823   \n",
      "min        30.780850     -101.790470      9.000000     5.000000  5684.000000   \n",
      "25%        31.060160     -101.240560   2957.000000  5259.500000  6628.000000   \n",
      "50%        31.146660     -101.161500   3660.000000  6133.000000  6879.000000   \n",
      "75%        31.173380     -101.034220   4490.000000  7162.500000  7082.000000   \n",
      "max        31.396560     -100.884410  32641.000000  9160.000000  8374.000000   \n",
      "\n",
      "         LOWER_PERF  TRUE_VERTICAL_DEPTH  WELL_HORZ_LENGTH  NET_PROD_DAYS  \\\n",
      "count   1179.000000          1179.000000       1179.000000    1179.000000   \n",
      "mean   14022.507209          6676.299406       8236.301103     830.296862   \n",
      "std     1492.878692           646.244689       2565.688023     294.704759   \n",
      "min     9338.000000          5002.000000       4393.000000     549.000000   \n",
      "25%    13887.000000          6475.000000       7263.000000     608.000000   \n",
      "50%    14082.000000          6564.000000       7780.000000     731.000000   \n",
      "75%    14984.000000          6916.000000       8579.000000     944.000000   \n",
      "max    16090.000000          8119.000000      15264.000000    1522.000000   \n",
      "\n",
      "        LIQ_CUM_BBLS        GAS_CUM  \n",
      "count    1179.000000    1179.000000  \n",
      "mean    52588.503817  258631.452926  \n",
      "std     43678.050335  211083.185502  \n",
      "min      1243.000000    4801.000000  \n",
      "25%     20888.000000   85831.000000  \n",
      "50%     41307.000000  165820.000000  \n",
      "75%     72357.000000  320872.000000  \n",
      "max    160458.000000  682957.000000  \n"
     ]
    }
   ],
   "source": [
    "# show statistics\n",
    "print(data.describe())"
   ]
  },
  {
   "cell_type": "code",
   "execution_count": 148,
   "metadata": {
    "collapsed": false
   },
   "outputs": [
    {
     "name": "stdout",
     "output_type": "stream",
     "text": [
      "WELL_ID                      0\n",
      "JOB_DESC_STAGING             0\n",
      "PROPPANT_MESH_SIZE           0\n",
      "PROPPANT_MESH_DESCRIPTION    0\n",
      "PROPPANT_MASS_USED           0\n",
      "PROPPANT_MASS_UOM            0\n",
      "VOLUME_PUMPED_GALLONS        0\n",
      "AVERAGE_STP                  0\n",
      "AVERAGE_STP_UOM              0\n",
      "FRACTURE_GRADIENT            0\n",
      "FRACTURE_GRADIENT_UOM        0\n",
      "MD_MIDDLE_PERFORATION        0\n",
      "MD_MIDDLE_PERFORATION_UOM    0\n",
      "TVD_DEPTH                    0\n",
      "TOP_DEPTH                    0\n",
      "WELL_LATITUDE                0\n",
      "WELL_LONGITUDE               0\n",
      "MIN_STP                      0\n",
      "MIN_STP_UOM                  0\n",
      "MAX_STP                      0\n",
      "MAX_STP_UOM                  0\n",
      "UPPER_PERF                   0\n",
      "LOWER_PERF                   0\n",
      "TRUE_VERTICAL_DEPTH          0\n",
      "WELL_HORZ_LENGTH             0\n",
      "NET_PROD_DAYS                0\n",
      "LIQ_CUM_BBLS                 0\n",
      "GAS_CUM                      0\n",
      "dtype: int64\n"
     ]
    }
   ],
   "source": [
    "# drop rows with missing values\n",
    "data.dropna(inplace = True,axis = 0 )\n",
    "# Check for missing values\n",
    "print(data.isnull().sum())\n"
   ]
  },
  {
   "cell_type": "code",
   "execution_count": 149,
   "metadata": {
    "collapsed": false
   },
   "outputs": [
    {
     "name": "stdout",
     "output_type": "stream",
     "text": [
      "-----------------------------------------------------------------------------------\n",
      "['WELL_ID', 'JOB_DESC_STAGING', 'PROPPANT_MESH_SIZE', 'PROPPANT_MESH_DESCRIPTION', 'PROPPANT_MASS_USED', 'PROPPANT_MASS_UOM', 'VOLUME_PUMPED_GALLONS', 'AVERAGE_STP', 'AVERAGE_STP_UOM', 'FRACTURE_GRADIENT', 'FRACTURE_GRADIENT_UOM', 'MD_MIDDLE_PERFORATION', 'MD_MIDDLE_PERFORATION_UOM', 'TVD_DEPTH', 'TOP_DEPTH', 'WELL_LATITUDE', 'WELL_LONGITUDE', 'MIN_STP', 'MIN_STP_UOM', 'MAX_STP', 'MAX_STP_UOM', 'UPPER_PERF', 'LOWER_PERF', 'TRUE_VERTICAL_DEPTH', 'WELL_HORZ_LENGTH', 'NET_PROD_DAYS', 'LIQ_CUM_BBLS', 'GAS_CUM']\n"
     ]
    }
   ],
   "source": [
    "print('-----------------------------------------------------------------------------------')\n",
    "# print a list of column names\n",
    "print(data.columns.tolist())"
   ]
  },
  {
   "cell_type": "code",
   "execution_count": 150,
   "metadata": {
    "collapsed": true
   },
   "outputs": [],
   "source": [
    "# Remove all text columns from the dataset\n",
    "data=data.drop(labels=['JOB_DESC_STAGING','PROPPANT_MESH_DESCRIPTION','PROPPANT_MASS_UOM',\n",
    "          'AVERAGE_STP_UOM','FRACTURE_GRADIENT_UOM','MD_MIDDLE_PERFORATION_UOM','MIN_STP_UOM',\n",
    "          'MAX_STP_UOM'], axis = 1)"
   ]
  },
  {
   "cell_type": "markdown",
   "metadata": {},
   "source": [
    "Some visualization before aggregation"
   ]
  },
  {
   "cell_type": "code",
   "execution_count": 151,
   "metadata": {
    "collapsed": false
   },
   "outputs": [
    {
     "data": {
      "image/png": "[encoded data removed]",
      "text/plain": [
       "<matplotlib.figure.Figure at 0xdc569f0>"
      ]
     },
     "metadata": {},
     "output_type": "display_data"
    }
   ],
   "source": [
    "fig = plt.figure()\n",
    "ax = fig.add_subplot(111, projection='3d')\n",
    "\n",
    "x =data['WELL_LATITUDE']\n",
    "y =data['WELL_LONGITUDE']\n",
    "z =data['LIQ_CUM_BBLS']\n",
    "\n",
    "ax.scatter(x, y, z, c=data['WELL_ID'], marker='o')\n",
    "\n",
    "ax.set_xlabel('WELL_LATITUDE')\n",
    "ax.set_ylabel('WELL_LONGITUDE')\n",
    "ax.set_zlabel('LIQ_CUM_BBLS')\n",
    "#plt.savefig(fname = '3Dimage')\n",
    "plt.show()"
   ]
  },
  {
   "cell_type": "markdown",
   "metadata": {},
   "source": [
    "Aggregate the data by the well ID using the 'groupby' function in pandas"
   ]
  },
  {
   "cell_type": "code",
   "execution_count": 152,
   "metadata": {
    "collapsed": false
   },
   "outputs": [
    {
     "name": "stdout",
     "output_type": "stream",
     "text": [
      "   WELL_ID  PROPPANT_MASS_USED  VOLUME_PUMPED_GALLONS  AVERAGE_STP  \\\n",
      "0        2                7103               15727612     279788.0   \n",
      "1        3              135750                6519843     342126.0   \n",
      "2        4                6022                9786752     330502.0   \n",
      "3        6                2346                9280987     389917.5   \n",
      "4        7               29268                9916132     318670.0   \n",
      "\n",
      "   FRACTURE_GRADIENT  MD_MIDDLE_PERFORATION  TVD_DEPTH  TOP_DEPTH  \\\n",
      "0              50.16               666938.0     377982     932976   \n",
      "1              45.60               696122.0     468540     915840   \n",
      "2              51.00               700620.0     440300     964376   \n",
      "3              51.00               682175.0     446420     929152   \n",
      "4              54.00               782251.0     464832    1082520   \n",
      "\n",
      "   WELL_LATITUDE  WELL_LONGITUDE   MIN_STP  MAX_STP  UPPER_PERF  LOWER_PERF  \\\n",
      "0     2047.64076     -6664.56714  233178.0   427016      405966      924594   \n",
      "1     1862.19480     -6107.42820  204082.0   425172      481860      906780   \n",
      "2     2115.99952     -6878.98200  258226.0   412936      473212      957576   \n",
      "3     2112.09088     -6883.36392  356618.0   423198      439960      921536   \n",
      "4     2240.61408     -7279.88256  241876.0   391446      496224     1068264   \n",
      "\n",
      "   TRUE_VERTICAL_DEPTH  WELL_HORZ_LENGTH  NET_PROD_DAYS  LIQ_CUM_BBLS  \\\n",
      "0               454608            932976          44220       2726262   \n",
      "1               413280            915840          36480       1866480   \n",
      "2               440300            524076         103496       1026800   \n",
      "3               446352            482800          49708      10911144   \n",
      "4               464832            617688         100800        146808   \n",
      "\n",
      "    GAS_CUM  \n",
      "0  21177552  \n",
      "1   1047180  \n",
      "2  10210540  \n",
      "3  39474476  \n",
      "4   7535880  \n",
      "-----------------------------------------------------------------------------------\n"
     ]
    }
   ],
   "source": [
    "# group the data by the well ID\n",
    "Grouped_data =data.groupby('WELL_ID', as_index = False)\n",
    "# sums all the properties by well ID\n",
    "Grouped_data=Grouped_data.sum()\n",
    "print(Grouped_data.head())\n",
    "print('-----------------------------------------------------------------------------------')"
   ]
  },
  {
   "cell_type": "code",
   "execution_count": 153,
   "metadata": {
    "collapsed": false
   },
   "outputs": [
    {
     "name": "stdout",
     "output_type": "stream",
     "text": [
      "<class 'pandas.core.frame.DataFrame'>\n",
      "Int64Index: 20 entries, 0 to 19\n",
      "Data columns (total 19 columns):\n",
      "WELL_ID                  20 non-null int64\n",
      "PROPPANT_MASS_USED       20 non-null int64\n",
      "VOLUME_PUMPED_GALLONS    20 non-null int64\n",
      "AVERAGE_STP              20 non-null float64\n",
      "FRACTURE_GRADIENT        20 non-null float64\n",
      "MD_MIDDLE_PERFORATION    20 non-null float64\n",
      "TVD_DEPTH                20 non-null int64\n",
      "TOP_DEPTH                20 non-null int64\n",
      "WELL_LATITUDE            20 non-null float64\n",
      "WELL_LONGITUDE           20 non-null float64\n",
      "MIN_STP                  20 non-null float64\n",
      "MAX_STP                  20 non-null int64\n",
      "UPPER_PERF               20 non-null int64\n",
      "LOWER_PERF               20 non-null int64\n",
      "TRUE_VERTICAL_DEPTH      20 non-null int64\n",
      "WELL_HORZ_LENGTH         20 non-null int64\n",
      "NET_PROD_DAYS            20 non-null int64\n",
      "LIQ_CUM_BBLS             20 non-null int64\n",
      "GAS_CUM                  20 non-null int64\n",
      "dtypes: float64(6), int64(13)\n",
      "memory usage: 3.1 KB\n",
      "None\n"
     ]
    }
   ],
   "source": [
    "print(Grouped_data.info())"
   ]
  },
  {
   "cell_type": "markdown",
   "metadata": {},
   "source": [
    "The entire dataset has been grouped into 20 wells based on the well IDS present. This aggregation was done by summing all the columns per well id. This process is valid for quantities such as Volume of proppant, mass of proppant etc but is meaningless for quantities such as pressure, longitude, fracture gradient etc. In order to solve this, the mean values would be calculated for some other columns instead while the sum would be used for others on a case by case basis."
   ]
  },
  {
   "cell_type": "code",
   "execution_count": 154,
   "metadata": {
    "collapsed": true
   },
   "outputs": [],
   "source": [
    "# The number of rows per well id needs to be computed, \n",
    "#this value would then be used to compute the mean value."
   ]
  },
  {
   "cell_type": "markdown",
   "metadata": {},
   "source": [
    "The function below was created by Olabode Alamu to count the number of rows that have info for a well id."
   ]
  },
  {
   "cell_type": "code",
   "execution_count": 155,
   "metadata": {
    "collapsed": true
   },
   "outputs": [],
   "source": [
    "\"\"\"\n",
    "This function was created to count the number of rows in the dataset \n",
    "which partains to a particular well ID number.\n",
    "it takes in the dataframe of interest as input, counts the number of rows per well id \n",
    "and returns a dataframe with the number of rows per well ID as output\n",
    "\"\"\"\n",
    "def rowcount(dataframe):\n",
    "    Unique = dataframe['WELL_ID'].unique() # Checks for the unique well IDs\n",
    "    length_list = [] \n",
    "    # slices through the dataframe till only unique Well ids are found and counted\n",
    "    for i in Unique:\n",
    "        length=len(dataframe[dataframe['WELL_ID']== i]) \n",
    "        length_list.append(length) # appends the count to the list\n",
    "    \n",
    "    # pass into a dataframe\n",
    "    Count = pd.DataFrame(data= length_list, columns = ['No of rows'])\n",
    "    Count['Well ID']= Unique\n",
    "    return Count\n",
    "   "
   ]
  },
  {
   "cell_type": "code",
   "execution_count": 156,
   "metadata": {
    "collapsed": true
   },
   "outputs": [],
   "source": [
    "# the dataframe was passed into the function\n",
    "Count=rowcount(data)"
   ]
  },
  {
   "cell_type": "code",
   "execution_count": 157,
   "metadata": {
    "collapsed": false
   },
   "outputs": [
    {
     "name": "stdout",
     "output_type": "stream",
     "text": [
      "    No of rows  Well ID\n",
      "0           66        2\n",
      "1           60        3\n",
      "2           68        4\n",
      "3           68        6\n",
      "4           72        7\n",
      "5           52        8\n",
      "6           51       10\n",
      "7           65       11\n",
      "8           61       12\n",
      "9           70       14\n",
      "10          76       15\n",
      "11          66       16\n",
      "12          54       18\n",
      "13          38       19\n",
      "14          60       21\n",
      "15          58       22\n",
      "16          35       23\n",
      "17          64       24\n",
      "18          44       25\n",
      "19          44       26\n"
     ]
    }
   ],
   "source": [
    "print(Count)"
   ]
  },
  {
   "cell_type": "markdown",
   "metadata": {},
   "source": [
    "Next we compute the mean value for some of the columns"
   ]
  },
  {
   "cell_type": "code",
   "execution_count": 158,
   "metadata": {
    "collapsed": true
   },
   "outputs": [],
   "source": [
    "# Create a column in the Grouped data with the number of rows\n",
    "Grouped_data['Count'] = Count['No of rows']"
   ]
  },
  {
   "cell_type": "code",
   "execution_count": 159,
   "metadata": {
    "collapsed": false
   },
   "outputs": [
    {
     "name": "stdout",
     "output_type": "stream",
     "text": [
      "   WELL_ID  PROPPANT_MASS_USED  VOLUME_PUMPED_GALLONS  AVERAGE_STP  \\\n",
      "0        2                7103               15727612     279788.0   \n",
      "1        3              135750                6519843     342126.0   \n",
      "2        4                6022                9786752     330502.0   \n",
      "3        6                2346                9280987     389917.5   \n",
      "4        7               29268                9916132     318670.0   \n",
      "\n",
      "   FRACTURE_GRADIENT  MD_MIDDLE_PERFORATION  TVD_DEPTH  TOP_DEPTH  \\\n",
      "0              50.16               666938.0     377982     932976   \n",
      "1              45.60               696122.0     468540     915840   \n",
      "2              51.00               700620.0     440300     964376   \n",
      "3              51.00               682175.0     446420     929152   \n",
      "4              54.00               782251.0     464832    1082520   \n",
      "\n",
      "   WELL_LATITUDE  WELL_LONGITUDE   MIN_STP  MAX_STP  UPPER_PERF  LOWER_PERF  \\\n",
      "0     2047.64076     -6664.56714  233178.0   427016      405966      924594   \n",
      "1     1862.19480     -6107.42820  204082.0   425172      481860      906780   \n",
      "2     2115.99952     -6878.98200  258226.0   412936      473212      957576   \n",
      "3     2112.09088     -6883.36392  356618.0   423198      439960      921536   \n",
      "4     2240.61408     -7279.88256  241876.0   391446      496224     1068264   \n",
      "\n",
      "   TRUE_VERTICAL_DEPTH  WELL_HORZ_LENGTH  NET_PROD_DAYS  LIQ_CUM_BBLS  \\\n",
      "0               454608            932976          44220       2726262   \n",
      "1               413280            915840          36480       1866480   \n",
      "2               440300            524076         103496       1026800   \n",
      "3               446352            482800          49708      10911144   \n",
      "4               464832            617688         100800        146808   \n",
      "\n",
      "    GAS_CUM  Count  \n",
      "0  21177552     66  \n",
      "1   1047180     60  \n",
      "2  10210540     68  \n",
      "3  39474476     68  \n",
      "4   7535880     72  \n"
     ]
    }
   ],
   "source": [
    "print(Grouped_data.head())"
   ]
  },
  {
   "cell_type": "markdown",
   "metadata": {},
   "source": [
    "The count column would then be used to compute the mean values for ['GAS_CUM','LIQ_CUM_BBLS','NET_PROD_DAYS','WELL_HORZ_LENGTH',\n",
    "'TRUE_VERTICAL_DEPTH','LOWER_PERF','UPPER_PERF','MAX_STP',\n",
    "'MIN_STP','WELL_LONGITUDE','WELL_LATITUDE',\n",
    " 'TOP_DEPTH','TVD_DEPTH','MD_MIDDLE_PERFORATION',\n",
    " 'FRACTURE_GRADIENT','AVERAGE_STP']"
   ]
  },
  {
   "cell_type": "code",
   "execution_count": 160,
   "metadata": {
    "collapsed": true
   },
   "outputs": [],
   "source": [
    "# This would be achieved using a custom function"
   ]
  },
  {
   "cell_type": "code",
   "execution_count": 161,
   "metadata": {
    "collapsed": true
   },
   "outputs": [],
   "source": [
    "def mean_calculator(dataframe,new_column_names,old_column_names):\n",
    "    \"\"\"\n",
    "    This function takes in a dataframe and creates new columns based \n",
    "    on the calculated mean of the previous columns. it requires a list of the new column names and\n",
    "    a list of the old column names which require a mean to be computed.\n",
    "    \"\"\"\n",
    "    \n",
    "    for i,j in zip(new_column_names,old_column_names):\n",
    "        dataframe[i]= dataframe[j]/dataframe['Count']"
   ]
  },
  {
   "cell_type": "code",
   "execution_count": 162,
   "metadata": {
    "collapsed": true
   },
   "outputs": [],
   "source": [
    "# list of columns which the mean to be computed\n",
    "old_column_names = ['GAS_CUM','LIQ_CUM_BBLS','NET_PROD_DAYS','WELL_HORZ_LENGTH','TRUE_VERTICAL_DEPTH'\n",
    "                   ,'LOWER_PERF','UPPER_PERF','MAX_STP','MIN_STP','WELL_LONGITUDE','WELL_LATITUDE',\n",
    "                   'TOP_DEPTH','TVD_DEPTH','MD_MIDDLE_PERFORATION','FRACTURE_GRADIENT','AVERAGE_STP']"
   ]
  },
  {
   "cell_type": "code",
   "execution_count": 163,
   "metadata": {
    "collapsed": true
   },
   "outputs": [],
   "source": [
    "# new column names that would be created on the dataframe\n",
    "new_column_names=['Mean Gas_cum','Mean Liquid produced','Mean Production days','Mean Horizontal length',\n",
    " 'Mean True Vertical Distance','Mean Lower perforation','Mean Upper perforation','Mean Maximum STP',\n",
    "'Mean Minimum STP','Longitude','Latitude','Mean TOP Depth','Mean TVD depth','Mean Mid perforation',\n",
    " 'Mean Fracture Gradient','Mean STP']"
   ]
  },
  {
   "cell_type": "code",
   "execution_count": 164,
   "metadata": {
    "collapsed": false
   },
   "outputs": [],
   "source": [
    "# call the mean calculator custom function\n",
    "mean_calculator(dataframe=Grouped_data,\n",
    "                new_column_names=new_column_names,old_column_names=old_column_names)"
   ]
  },
  {
   "cell_type": "code",
   "execution_count": 165,
   "metadata": {
    "collapsed": false
   },
   "outputs": [
    {
     "name": "stdout",
     "output_type": "stream",
     "text": [
      "   WELL_ID  PROPPANT_MASS_USED  VOLUME_PUMPED_GALLONS  AVERAGE_STP  \\\n",
      "0        2                7103               15727612     279788.0   \n",
      "1        3              135750                6519843     342126.0   \n",
      "2        4                6022                9786752     330502.0   \n",
      "3        6                2346                9280987     389917.5   \n",
      "4        7               29268                9916132     318670.0   \n",
      "\n",
      "   FRACTURE_GRADIENT  MD_MIDDLE_PERFORATION  TVD_DEPTH  TOP_DEPTH  \\\n",
      "0              50.16               666938.0     377982     932976   \n",
      "1              45.60               696122.0     468540     915840   \n",
      "2              51.00               700620.0     440300     964376   \n",
      "3              51.00               682175.0     446420     929152   \n",
      "4              54.00               782251.0     464832    1082520   \n",
      "\n",
      "   WELL_LATITUDE  WELL_LONGITUDE     ...       Mean Upper perforation  \\\n",
      "0     2047.64076     -6664.56714     ...                       6151.0   \n",
      "1     1862.19480     -6107.42820     ...                       8031.0   \n",
      "2     2115.99952     -6878.98200     ...                       6959.0   \n",
      "3     2112.09088     -6883.36392     ...                       6470.0   \n",
      "4     2240.61408     -7279.88256     ...                       6892.0   \n",
      "\n",
      "   Mean Maximum STP  Mean Minimum STP  Longitude  Latitude  Mean TOP Depth  \\\n",
      "0       6469.939394       3533.000000 -100.97829  31.02486         14136.0   \n",
      "1       7086.200000       3401.366667 -101.79047  31.03658         15264.0   \n",
      "2       6072.588235       3797.441176 -101.16150  31.11764         14182.0   \n",
      "3       6223.500000       5244.382353 -101.22594  31.06016         13664.0   \n",
      "4       5436.750000       3359.388889 -101.10948  31.11964         15035.0   \n",
      "\n",
      "   Mean TVD depth  Mean Mid perforation  Mean Fracture Gradient     Mean STP  \n",
      "0          5727.0          10105.121212                    0.76  4239.212121  \n",
      "1          7809.0          11602.033333                    0.76  5702.100000  \n",
      "2          6475.0          10303.235294                    0.75  4860.323529  \n",
      "3          6565.0          10031.985294                    0.75  5734.080882  \n",
      "4          6456.0          10864.597222                    0.75  4425.972222  \n",
      "\n",
      "[5 rows x 36 columns]\n"
     ]
    }
   ],
   "source": [
    "print(Grouped_data.head())"
   ]
  },
  {
   "cell_type": "code",
   "execution_count": 166,
   "metadata": {
    "collapsed": true
   },
   "outputs": [],
   "source": [
    "# Create list of columns that were the sum of properties, remove them and replace with the mean property\n",
    "remove_columns = ['AVERAGE_STP','FRACTURE_GRADIENT','MD_MIDDLE_PERFORATION','TVD_DEPTH',\n",
    "                 'TOP_DEPTH','WELL_LATITUDE','WELL_LONGITUDE','MIN_STP','MAX_STP','UPPER_PERF',\n",
    "                 'LOWER_PERF','TRUE_VERTICAL_DEPTH','WELL_HORZ_LENGTH','NET_PROD_DAYS','LIQ_CUM_BBLS'\n",
    "                 ,'GAS_CUM']\n",
    "\n",
    "# Drop some more columns\n",
    "Grouped_data=Grouped_data.drop(labels=remove_columns, axis = 1)\n",
    "    "
   ]
  },
  {
   "cell_type": "code",
   "execution_count": 167,
   "metadata": {
    "collapsed": false
   },
   "outputs": [
    {
     "name": "stdout",
     "output_type": "stream",
     "text": [
      "   WELL_ID  PROPPANT_MASS_USED  VOLUME_PUMPED_GALLONS  Count  Mean Gas_cum  \\\n",
      "0        2                7103               15727612     66      320872.0   \n",
      "1        3              135750                6519843     60       17453.0   \n",
      "2        4                6022                9786752     68      150155.0   \n",
      "3        6                2346                9280987     68      580507.0   \n",
      "4        7               29268                9916132     72      104665.0   \n",
      "\n",
      "   Mean Liquid produced  Mean Production days  Mean Horizontal length  \\\n",
      "0               41307.0                 670.0                 14136.0   \n",
      "1               31108.0                 608.0                 15264.0   \n",
      "2               15100.0                1522.0                  7707.0   \n",
      "3              160458.0                 731.0                  7100.0   \n",
      "4                2039.0                1400.0                  8579.0   \n",
      "\n",
      "   Mean True Vertical Distance  Mean Lower perforation  \\\n",
      "0                       6888.0                 14009.0   \n",
      "1                       6888.0                 15113.0   \n",
      "2                       6475.0                 14082.0   \n",
      "3                       6564.0                 13552.0   \n",
      "4                       6456.0                 14837.0   \n",
      "\n",
      "   Mean Upper perforation  Mean Maximum STP  Mean Minimum STP  Longitude  \\\n",
      "0                  6151.0       6469.939394       3533.000000 -100.97829   \n",
      "1                  8031.0       7086.200000       3401.366667 -101.79047   \n",
      "2                  6959.0       6072.588235       3797.441176 -101.16150   \n",
      "3                  6470.0       6223.500000       5244.382353 -101.22594   \n",
      "4                  6892.0       5436.750000       3359.388889 -101.10948   \n",
      "\n",
      "   Latitude  Mean TOP Depth  Mean TVD depth  Mean Mid perforation  \\\n",
      "0  31.02486         14136.0          5727.0          10105.121212   \n",
      "1  31.03658         15264.0          7809.0          11602.033333   \n",
      "2  31.11764         14182.0          6475.0          10303.235294   \n",
      "3  31.06016         13664.0          6565.0          10031.985294   \n",
      "4  31.11964         15035.0          6456.0          10864.597222   \n",
      "\n",
      "   Mean Fracture Gradient     Mean STP  \n",
      "0                    0.76  4239.212121  \n",
      "1                    0.76  5702.100000  \n",
      "2                    0.75  4860.323529  \n",
      "3                    0.75  5734.080882  \n",
      "4                    0.75  4425.972222  \n"
     ]
    }
   ],
   "source": [
    "print(Grouped_data.head())"
   ]
  },
  {
   "cell_type": "code",
   "execution_count": 168,
   "metadata": {
    "collapsed": false
   },
   "outputs": [
    {
     "data": {
      "image/png": "[encoded data removed]",
      "text/plain": [
       "<matplotlib.figure.Figure at 0xdc3ee50>"
      ]
     },
     "metadata": {},
     "output_type": "display_data"
    }
   ],
   "source": [
    "plt.scatter(x= Grouped_data['VOLUME_PUMPED_GALLONS'], y = Grouped_data['Mean Liquid produced'],c='b')\n",
    "plt.ylabel('Liquid produced in BBLs')\n",
    "plt.xlabel('Volume of proppant in gallons')\n",
    "plt.grid()\n",
    "plt.show()"
   ]
  },
  {
   "cell_type": "code",
   "execution_count": 169,
   "metadata": {
    "collapsed": false
   },
   "outputs": [
    {
     "data": {
      "image/png": "[encoded data removed]",
      "text/plain": [
       "<matplotlib.figure.Figure at 0xa72cd10>"
      ]
     },
     "metadata": {},
     "output_type": "display_data"
    }
   ],
   "source": [
    "plt.scatter(x= Grouped_data['VOLUME_PUMPED_GALLONS'], y = Grouped_data['Mean Gas_cum'])\n",
    "plt.ylabel('Gas produced in BBLs')\n",
    "plt.xlabel('Volume of proppant in gallons')\n",
    "plt.grid()\n",
    "plt.show()"
   ]
  },
  {
   "cell_type": "code",
   "execution_count": 170,
   "metadata": {
    "collapsed": false
   },
   "outputs": [
    {
     "data": {
      "image/png": "[encoded data removed]",
      "text/plain": [
       "<matplotlib.figure.Figure at 0xa754eb0>"
      ]
     },
     "metadata": {},
     "output_type": "display_data"
    }
   ],
   "source": [
    "plt.scatter(x= Grouped_data['PROPPANT_MASS_USED'], y = Grouped_data['Mean Liquid produced'], c='y')\n",
    "plt.ylabel('Liquid produced in BBLs')\n",
    "plt.xlabel('Mass of proppant in CWT')\n",
    "plt.grid()\n",
    "plt.show()"
   ]
  },
  {
   "cell_type": "code",
   "execution_count": 171,
   "metadata": {
    "collapsed": false
   },
   "outputs": [
    {
     "data": {
      "image/png": "[encoded data removed]",
      "text/plain": [
       "<matplotlib.figure.Figure at 0xa7807d0>"
      ]
     },
     "metadata": {},
     "output_type": "display_data"
    }
   ],
   "source": [
    "plt.scatter(x= Grouped_data['Mean TVD depth'], y = Grouped_data['Mean Liquid produced'], c = 'r')\n",
    "plt.ylabel('Liquid produced in BBLs')\n",
    "plt.xlabel('True vertical depth in feet')\n",
    "plt.grid()\n",
    "plt.show()"
   ]
  },
  {
   "cell_type": "code",
   "execution_count": 172,
   "metadata": {
    "collapsed": false
   },
   "outputs": [
    {
     "data": {
      "image/png": "[encoded data removed]",
      "text/plain": [
       "<matplotlib.figure.Figure at 0xdc38af0>"
      ]
     },
     "metadata": {},
     "output_type": "display_data"
    }
   ],
   "source": [
    "plt.scatter(x= Grouped_data['Mean Upper perforation'], y = Grouped_data['Mean Liquid produced'])\n",
    "plt.ylabel('Liquid produced in BBLs')\n",
    "plt.xlabel('Upper perforation length in feet')\n",
    "plt.grid()\n",
    "plt.show()"
   ]
  },
  {
   "cell_type": "code",
   "execution_count": 173,
   "metadata": {
    "collapsed": false
   },
   "outputs": [
    {
     "data": {
      "image/png": "[encoded data removed]",
      "text/plain": [
       "<matplotlib.figure.Figure at 0xa7b4d10>"
      ]
     },
     "metadata": {},
     "output_type": "display_data"
    }
   ],
   "source": [
    "plt.scatter(x= Grouped_data['Mean Maximum STP'], y = Grouped_data['Mean Liquid produced'])\n",
    "plt.ylabel('Liquid produced in BBLs')\n",
    "plt.xlabel('Maximum pressure psi')\n",
    "plt.grid()\n",
    "plt.show()"
   ]
  },
  {
   "cell_type": "code",
   "execution_count": 174,
   "metadata": {
    "collapsed": false
   },
   "outputs": [
    {
     "data": {
      "image/png": "[encoded data removed]",
      "text/plain": [
       "<matplotlib.figure.Figure at 0x1218290>"
      ]
     },
     "metadata": {},
     "output_type": "display_data"
    }
   ],
   "source": [
    "plt.scatter(x= Grouped_data['Mean STP'], y = Grouped_data['Mean Liquid produced'])\n",
    "plt.ylabel('Liquid produced in BBLs')\n",
    "plt.xlabel('Average pressure of fracking psi')\n",
    "plt.grid()\n",
    "plt.show()"
   ]
  },
  {
   "cell_type": "code",
   "execution_count": 175,
   "metadata": {
    "collapsed": false
   },
   "outputs": [
    {
     "data": {
      "image/png": "[encoded data removed]",
      "text/plain": [
       "<matplotlib.figure.Figure at 0xdcd2090>"
      ]
     },
     "metadata": {},
     "output_type": "display_data"
    }
   ],
   "source": [
    "plt.scatter(x= Grouped_data['Mean Gas_cum'], y = Grouped_data['Mean Liquid produced'])\n",
    "plt.ylabel('Liquid produced in BBLs')\n",
    "plt.xlabel('Gas produced')\n",
    "plt.grid()\n",
    "plt.show()"
   ]
  },
  {
   "cell_type": "code",
   "execution_count": 176,
   "metadata": {
    "collapsed": false
   },
   "outputs": [
    {
     "data": {
      "image/png": "[encoded data removed]",
      "text/plain": [
       "<matplotlib.figure.Figure at 0xc4c3d90>"
      ]
     },
     "metadata": {},
     "output_type": "display_data"
    }
   ],
   "source": [
    "plt.scatter(x= Grouped_data['Mean Horizontal length'], y = Grouped_data['Mean Liquid produced'])\n",
    "plt.ylabel('Liquid produced in BBLs')\n",
    "plt.xlabel('Well horizontal length')\n",
    "plt.grid()\n",
    "plt.show()"
   ]
  },
  {
   "cell_type": "code",
   "execution_count": null,
   "metadata": {
    "collapsed": true
   },
   "outputs": [],
   "source": []
  },
  {
   "cell_type": "markdown",
   "metadata": {},
   "source": [
    "The dataframe is in the required format, we can continue with the analysis."
   ]
  },
  {
   "cell_type": "markdown",
   "metadata": {},
   "source": [
    "The exported lat and long data would be used to create the basin location map"
   ]
  },
  {
   "cell_type": "code",
   "execution_count": 177,
   "metadata": {
    "collapsed": true
   },
   "outputs": [],
   "source": [
    "#Export the longitude and latitude data\n",
    "long_lat =Grouped_data[['WELL_ID','Latitude','Longitude', \n",
    "                        'Mean Liquid produced','Mean Production days']]\n",
    "# export to a csv\n",
    "long_lat.to_csv('long_lat.csv')"
   ]
  },
  {
   "cell_type": "code",
   "execution_count": 178,
   "metadata": {
    "collapsed": false
   },
   "outputs": [],
   "source": [
    "# Create target variable\n",
    "y = Grouped_data['Mean Liquid produced']\n",
    "\n",
    "# These features are dropped because they are repetitve\n",
    "dropoff = ['Mean Gas_cum','Count','WELL_ID','Latitude','Longitude',\n",
    "           'Mean Liquid produced','Mean True Vertical Distance']\n",
    "\n",
    "# Create input features\n",
    "X=Grouped_data.drop(labels=dropoff, axis = 1)"
   ]
  },
  {
   "cell_type": "markdown",
   "metadata": {},
   "source": [
    "Feature selection was perfromed using the recursive feature extraction model in scikit learn"
   ]
  },
  {
   "cell_type": "markdown",
   "metadata": {},
   "source": [
    "The recursive feature extraction model requires an estimator, in this case, the linear regression model was chosen as the estimator since the objective of this project is that of a regression problem."
   ]
  },
  {
   "cell_type": "code",
   "execution_count": 179,
   "metadata": {
    "collapsed": false
   },
   "outputs": [
    {
     "name": "stdout",
     "output_type": "stream",
     "text": [
      "Fitting estimator with 13 features.\n",
      "[ True False  True  True  True  True  True  True  True  True  True  True\n",
      "  True]\n",
      "----------------------------------------------------------------\n",
      "[1 2 1 1 1 1 1 1 1 1 1 1 1]\n"
     ]
    }
   ],
   "source": [
    "lm = LinearRegression()\n",
    "# SPlit the data into training and test data\n",
    "\n",
    "X_train_rfe, X_test_rfe, y_train_rfe, y_test_rfe = train_test_split(X,y, test_size = 0.3)\n",
    "# create the RFE model and select 12 attributes out of 13 possible\n",
    "rfe = RFE(estimator = lm, n_features_to_select=12, verbose=3)\n",
    "rfe = rfe.fit(X_train_rfe, y_train_rfe)\n",
    "# summarize the selection of the attributes\n",
    "print(rfe.support_) # the parameters with True are selected\n",
    "print('----------------------------------------------------------------')\n",
    "print(rfe.ranking_)"
   ]
  },
  {
   "cell_type": "markdown",
   "metadata": {},
   "source": [
    "Display the selected features"
   ]
  },
  {
   "cell_type": "code",
   "execution_count": 180,
   "metadata": {
    "collapsed": false
   },
   "outputs": [
    {
     "name": "stdout",
     "output_type": "stream",
     "text": [
      "Index(['PROPPANT_MASS_USED', 'Mean Production days', 'Mean Horizontal length',\n",
      "       'Mean Lower perforation', 'Mean Upper perforation', 'Mean Maximum STP',\n",
      "       'Mean Minimum STP', 'Mean TOP Depth', 'Mean TVD depth',\n",
      "       'Mean Mid perforation', 'Mean Fracture Gradient', 'Mean STP'],\n",
      "      dtype='object')\n"
     ]
    }
   ],
   "source": [
    "# display important features\n",
    "print(X.columns[rfe.support_])"
   ]
  },
  {
   "cell_type": "markdown",
   "metadata": {},
   "source": [
    "The selected features are ['PROPPANT_MASS_USED', 'Mean Production days', 'Mean Horizontal length',\n",
    "       'Mean Lower perforation', 'Mean Upper perforation', 'Mean Maximum STP',\n",
    "       'Mean Minimum STP', 'Mean TOP Depth', 'Mean TVD depth',\n",
    "       'Mean Mid perforation', 'Mean Fracture Gradient', 'Mean STP']"
   ]
  },
  {
   "cell_type": "markdown",
   "metadata": {},
   "source": [
    "The 'VOLUME_PUMPED_GALLONS' was dropped since it is the least important feature acording to the analysis."
   ]
  },
  {
   "cell_type": "code",
   "execution_count": 181,
   "metadata": {
    "collapsed": true
   },
   "outputs": [],
   "source": [
    "# The top 12 important features were selected\n",
    "# They would be used to form the new X matrix\n",
    "X = X[['PROPPANT_MASS_USED', 'Mean STP', 'Mean Fracture Gradient',\n",
    "       'Mean Mid perforation', 'Mean TVD depth', 'Mean TOP Depth',\n",
    "       'Mean Minimum STP', 'Mean Maximum STP', 'Mean Upper perforation',\n",
    "       'Mean Lower perforation', 'Mean Horizontal length',\n",
    "       'Mean Production days']]"
   ]
  },
  {
   "cell_type": "markdown",
   "metadata": {},
   "source": [
    "Prepare the X matrix by Standardizing it."
   ]
  },
  {
   "cell_type": "code",
   "execution_count": 182,
   "metadata": {
    "collapsed": false
   },
   "outputs": [
    {
     "data": {
      "text/plain": [
       "array([[ -6.65735159e-01,  -1.40243760e+00,  -2.45514308e-02,\n",
       "         -2.39941981e-01,  -1.20709006e+00,   1.17346359e-01,\n",
       "         -2.86831615e-01,   4.41713888e-01,  -1.09417273e+00,\n",
       "          1.30328633e-01,   2.33665043e+00,  -5.49961765e-01],\n",
       "       [  4.03865482e+00,   1.38202616e+00,  -2.45514308e-02,\n",
       "          1.19628562e+00,   1.56421887e+00,   7.87896983e-01,\n",
       "         -4.80285977e-01,   1.28504958e+00,   1.68937900e+00,\n",
       "          8.05834784e-01,   2.76370558e+00,  -7.71590815e-01],\n",
       "       [ -7.05265389e-01,  -2.20212884e-01,  -5.15580047e-01,\n",
       "         -4.98594043e-02,  -2.11442087e-01,   1.44691509e-01,\n",
       "          1.01803221e-01,  -1.02050245e-01,   1.02162271e-01,\n",
       "          1.74995253e-01,  -9.73367722e-02,   2.49565035e+00],\n",
       "       [ -8.39690114e-01,   1.44289864e+00,  -5.15580047e-01,\n",
       "         -3.10112984e-01,  -9.16448704e-02,  -1.63238654e-01,\n",
       "          2.22829409e+00,   1.04468355e-01,  -6.21857302e-01,\n",
       "         -1.49296649e-01,  -3.27143932e-01,  -3.31907376e-01],\n",
       "       [  1.44799125e-01,  -1.04695805e+00,  -5.15580047e-01,\n",
       "          4.88745024e-01,  -2.36732610e-01,   6.51765695e-01,\n",
       "         -5.41978437e-01,  -9.72177384e-01,   2.96122525e-03,\n",
       "          6.36958246e-01,   2.32798060e-01,   2.05954157e+00],\n",
       "       [ -5.67037571e-01,  -1.13350997e+00,   1.93956303e+00,\n",
       "          2.29523684e-01,  -2.26083969e-01,   3.69397303e-01,\n",
       "         -1.17551506e+00,  -1.25547751e+00,  -2.44301083e-01,\n",
       "          4.19743859e-01,   3.97146146e-02,   3.22255789e-01],\n",
       "       [ -4.32100891e-01,   5.40121586e-01,   1.93956303e+00,\n",
       "          3.19626838e-01,   5.52398275e-03,   4.58566269e-01,\n",
       "         -1.34123036e+00,   1.03354794e-01,  -1.48061262e-02,\n",
       "          5.17643301e-01,   4.08503996e-02,   2.15015926e-01],\n",
       "       [ -3.21591773e-01,  -5.38784680e-01,  -2.45514308e-02,\n",
       "          1.20905409e-01,  -4.61685161e-01,   9.77291866e-02,\n",
       "          6.85061040e-02,  -2.01911584e-01,  -3.87920507e-01,\n",
       "          1.06465643e-01,  -6.96993379e-02,  -3.31907376e-01],\n",
       "       [ -4.14730993e-01,   7.13928929e-01,  -2.45514308e-02,\n",
       "          1.32511127e-01,  -2.59360973e-01,   6.91951175e-02,\n",
       "          9.47887601e-01,   7.01268186e-01,  -1.62867389e-02,\n",
       "          1.00346928e-01,  -1.51854451e-01,  -3.31907376e-01],\n",
       "       [  7.49172834e-02,   2.28319807e-01,  -2.45514308e-02,\n",
       "          4.57880484e-01,   3.48077467e-02,   1.10058282e+00,\n",
       "          6.74442639e-01,   1.04151952e-02,  -2.94641912e-01,\n",
       "          7.26903359e-01,   4.41403900e-01,  -9.82495880e-01],\n",
       "       [  1.21614882e-01,   1.53340673e+00,  -2.45514308e-02,\n",
       "          1.17809964e+00,   5.97854663e-01,   1.33598889e+00,\n",
       "          8.13778311e-01,   1.12891407e+00,   2.84277624e-01,\n",
       "          1.40363325e+00,   4.31181835e-01,  -9.82495880e-01],\n",
       "       [  4.19097237e-01,  -2.03813430e-01,  -2.45514308e-02,\n",
       "          4.70349313e-01,  -1.43556997e-01,   5.36440499e-01,\n",
       "         -4.54950176e-01,  -7.13803610e-02,  -2.84277624e-01,\n",
       "          5.47013134e-01,   1.27927248e-01,  -3.31907376e-01],\n",
       "       [ -2.20615986e-02,   6.12473671e-01,  -2.45514308e-02,\n",
       "          2.18243876e-01,   6.99016757e-01,  -4.49411588e-02,\n",
       "         -1.35368553e+00,   6.87158877e-01,   7.12174672e-01,\n",
       "         -1.65205309e-02,  -4.99026058e-01,  -9.82495880e-01],\n",
       "       [ -1.73600244e-01,   1.68327460e+00,  -2.45514308e-02,\n",
       "         -8.16618113e-01,   5.59253338e-01,  -1.23861638e+00,\n",
       "          1.94246620e+00,   1.97477412e+00,   5.37462382e-01,\n",
       "         -1.24699415e+00,  -1.21646357e+00,  -2.24667513e-01],\n",
       "       [ -4.12866015e-01,   7.11531816e-02,  -2.45514308e-02,\n",
       "          1.14353130e+00,   1.63343504e+00,   7.59362914e-01,\n",
       "          9.03434433e-01,   1.09987861e-01,   1.60794531e+00,\n",
       "          8.10729756e-01,  -2.41960059e-01,  -6.60776290e-01],\n",
       "       [ -4.30528458e-01,   4.28100135e-01,  -2.45514308e-02,\n",
       "          1.41024635e+00,   1.96221185e+00,   8.58043236e-01,\n",
       "         -4.44742511e-01,   6.75758435e-01,   2.19722913e+00,\n",
       "          9.06793584e-01,  -2.65432948e-01,  -5.49961765e-01],\n",
       "       [ -6.23206335e-01,  -9.09262016e-01,  -2.45514308e-02,\n",
       "         -1.10949370e+00,   3.68908872e-01,  -1.53584627e+00,\n",
       "         -1.07576830e-01,  -1.37549555e+00,   2.08766380e-01,\n",
       "         -1.55048242e+00,  -1.33458520e+00,  -8.71681354e-01],\n",
       "       [  4.51825781e-01,  -1.44786871e+00,   1.93956303e+00,\n",
       "         -2.69321815e-01,  -9.58178068e-01,   5.25502439e-02,\n",
       "          5.45952303e-01,  -2.48557967e+00,  -9.28344115e-01,\n",
       "          5.56803078e-02,   5.41012242e-02,   1.73782198e+00],\n",
       "       [  1.74711917e-01,  -5.10275578e-01,  -1.98866590e+00,\n",
       "         -1.83346000e+00,  -1.41740073e+00,  -1.65592714e+00,\n",
       "         -1.01467365e+00,   1.63437079e-01,  -1.67013104e+00,\n",
       "         -1.65205309e+00,  -9.12830383e-01,   5.36735515e-01],\n",
       "       [  1.82793491e-01,  -1.22258053e+00,  -1.98866590e+00,\n",
       "         -2.73714067e+00,  -2.21205560e+00,  -2.70098742e+00,\n",
       "         -1.02509477e+00,  -9.22228138e-01,  -1.78561882e+00,\n",
       "         -2.72772321e+00,  -1.35200057e+00,   5.36735515e-01]])"
      ]
     },
     "execution_count": 182,
     "metadata": {},
     "output_type": "execute_result"
    }
   ],
   "source": [
    "# Standardize the data\n",
    "\n",
    "Scaled = StandardScaler()\n",
    "Scaled.fit(X)\n",
    "Scaled.transform(X)"
   ]
  },
  {
   "cell_type": "code",
   "execution_count": 183,
   "metadata": {
    "collapsed": true
   },
   "outputs": [],
   "source": [
    "# SPlit the data into training and test data\n",
    "X_train, X_test, y_train, y_test = train_test_split(X,y, test_size = 0.3)"
   ]
  },
  {
   "cell_type": "markdown",
   "metadata": {},
   "source": [
    "Regression analysis"
   ]
  },
  {
   "cell_type": "code",
   "execution_count": 184,
   "metadata": {
    "collapsed": false
   },
   "outputs": [],
   "source": [
    "lm = LinearRegression() # linear regression\n",
    "\n",
    "DTR = DecisionTreeRegressor(max_depth=1) # Decision tree regressor\n",
    "MLPR = MLPRegressor(max_iter = 200, solver = 'lbfgs', verbose=True, tol = 0.000001) # Multilayer perceptron"
   ]
  },
  {
   "cell_type": "code",
   "execution_count": 185,
   "metadata": {
    "collapsed": false
   },
   "outputs": [],
   "source": [
    "SVR = SVR(C = 0.0001, epsilon = 0.2,kernel = 'linear') # Support vector regression"
   ]
  },
  {
   "cell_type": "code",
   "execution_count": 186,
   "metadata": {
    "collapsed": true
   },
   "outputs": [],
   "source": [
    "def Regression_analysis(Regressor,X_train,y_train,X_test,y_test):\n",
    "    Regressor.fit(X_train,y_train)\n",
    "    Predict = Regressor.predict(X_test)\n",
    "    plt.scatter(y_test,Predict)\n",
    "    plt.xlabel('Y test values')\n",
    "    plt.ylabel('Predicted values')\n",
    "    plt.grid()\n",
    "    plt.show()\n",
    "    print('MAE:', metrics.mean_absolute_error(y_test, Predict))\n",
    "    print('MSE:', metrics.mean_squared_error(y_test, Predict))\n",
    "    print('RMSE:', np.sqrt(metrics.mean_squared_error(y_test, Predict)))"
   ]
  },
  {
   "cell_type": "markdown",
   "metadata": {},
   "source": [
    "Linear regression"
   ]
  },
  {
   "cell_type": "code",
   "execution_count": 187,
   "metadata": {
    "collapsed": false
   },
   "outputs": [
    {
     "data": {
      "image/png": "[encoded data removed]",
      "text/plain": [
       "<matplotlib.figure.Figure at 0x61e7370>"
      ]
     },
     "metadata": {},
     "output_type": "display_data"
    },
    {
     "name": "stdout",
     "output_type": "stream",
     "text": [
      "MAE: 60307.8769227\n",
      "MSE: 6557027948.81\n",
      "RMSE: 80975.4774534\n"
     ]
    }
   ],
   "source": [
    "Regression_analysis(lm,X_train,y_train,X_test,y_test)"
   ]
  },
  {
   "cell_type": "markdown",
   "metadata": {},
   "source": [
    "Support Vector Regression"
   ]
  },
  {
   "cell_type": "code",
   "execution_count": 188,
   "metadata": {
    "collapsed": false
   },
   "outputs": [
    {
     "data": {
      "image/png": "[encoded data removed]",
      "text/plain": [
       "<matplotlib.figure.Figure at 0xa8f67f0>"
      ]
     },
     "metadata": {},
     "output_type": "display_data"
    },
    {
     "name": "stdout",
     "output_type": "stream",
     "text": [
      "MAE: 55086.9794394\n",
      "MSE: 4429221587.65\n",
      "RMSE: 66552.3973096\n"
     ]
    }
   ],
   "source": [
    "Regression_analysis(SVR,X_train,y_train,X_test,y_test)"
   ]
  },
  {
   "cell_type": "code",
   "execution_count": 189,
   "metadata": {
    "collapsed": false
   },
   "outputs": [
    {
     "data": {
      "image/png": "[encoded data removed]",
      "text/plain": [
       "<matplotlib.figure.Figure at 0xa771db0>"
      ]
     },
     "metadata": {},
     "output_type": "display_data"
    },
    {
     "name": "stdout",
     "output_type": "stream",
     "text": [
      "MAE: 56939.0\n",
      "MSE: 5503521880.7\n",
      "RMSE: 74185.7255859\n"
     ]
    }
   ],
   "source": [
    "Regression_analysis(DTR,X_train,y_train,X_test,y_test)"
   ]
  },
  {
   "cell_type": "code",
   "execution_count": 190,
   "metadata": {
    "collapsed": false
   },
   "outputs": [
    {
     "data": {
      "image/png": "[encoded data removed]",
      "text/plain": [
       "<matplotlib.figure.Figure at 0xa7436f0>"
      ]
     },
     "metadata": {},
     "output_type": "display_data"
    },
    {
     "name": "stdout",
     "output_type": "stream",
     "text": [
      "MAE: 36307.7778453\n",
      "MSE: 1822337212.23\n",
      "RMSE: 42688.8417767\n"
     ]
    }
   ],
   "source": [
    "Regression_analysis(MLPR,X_train,y_train,X_test,y_test)"
   ]
  },
  {
   "cell_type": "code",
   "execution_count": null,
   "metadata": {
    "collapsed": true
   },
   "outputs": [],
   "source": []
  },
  {
   "cell_type": "code",
   "execution_count": null,
   "metadata": {
    "collapsed": true
   },
   "outputs": [],
   "source": []
  },
  {
   "cell_type": "markdown",
   "metadata": {},
   "source": [
    "Import test model datasheet"
   ]
  },
  {
   "cell_type": "code",
   "execution_count": 125,
   "metadata": {
    "collapsed": false
   },
   "outputs": [
    {
     "name": "stdout",
     "output_type": "stream",
     "text": [
      "   WELL_ID          JOB_DESC_STAGING     PROPPANT_MESH_SIZE  \\\n",
      "0        1  Day 3 Stage 11: Wolfcamp  Sand, White, 100 mesh   \n",
      "1        1   Day 2 Stage 9: Wolfcamp  Sand, White, 100 mesh   \n",
      "2        1   Day 1 Stage 4: Wolfcamp                  40/70   \n",
      "3        1   Day 2 Stage 7: Wolfcamp                  40/70   \n",
      "4        1   Day 2 Stage 9: Wolfcamp                  40/70   \n",
      "\n",
      "  PROPPANT_MESH_DESCRIPTION  PROPPANT_MASS_USED PROPPANT_MASS_UOM  \\\n",
      "0     Sand, White, 100 mesh                  85     CWT = 132 lbs   \n",
      "1     Sand, White, 100 mesh                 109               CWT   \n",
      "2        Sand, White, 40/70                  70               CWT   \n",
      "3        Sand, White, 40/70                 102               CWT   \n",
      "4        Sand, White, 40/70                 110               CWT   \n",
      "\n",
      "   VOLUME_PUMPED_GALLONS  AVERAGE_STP AVERAGE_STP_UOM  FRACTURE_GRADIENT  \\\n",
      "0                 127232         4171             PSI               0.76   \n",
      "1                 126245         4606             PSI               0.76   \n",
      "2                 355844         5517             PSI               0.76   \n",
      "3                 356168         5004             PSI               0.76   \n",
      "4                 355834         4606             PSI               0.76   \n",
      "\n",
      "       ...      MIN_STP  MIN_STP_UOM MAX_STP  MAX_STP_UOM  UPPER_PERF  \\\n",
      "0      ...         4077          PSI    7735          PSI        6260   \n",
      "1      ...         3252          PSI    7683          PSI        6260   \n",
      "2      ...         5130          PSI    7792          PSI        6260   \n",
      "3      ...         3707          PSI    7898          PSI        6260   \n",
      "4      ...         3252          PSI    7683          PSI        6260   \n",
      "\n",
      "   LOWER_PERF  TRUE_VERTICAL_DEPTH  WELL_HORZ_LENGTH NET_PROD_DAYS  \\\n",
      "0       14060                 5810              8345           670   \n",
      "1       14060                 5810              8345           670   \n",
      "2       14060                 5810              8345           670   \n",
      "3       14060                 5810              8345           670   \n",
      "4       14060                 5810              8345           670   \n",
      "\n",
      "   LIQ_CUM_BBLS  \n",
      "0           NaN  \n",
      "1           NaN  \n",
      "2           NaN  \n",
      "3           NaN  \n",
      "4           NaN  \n",
      "\n",
      "[5 rows x 27 columns]\n",
      "WELL_ID                        0\n",
      "JOB_DESC_STAGING               0\n",
      "PROPPANT_MESH_SIZE             0\n",
      "PROPPANT_MESH_DESCRIPTION      0\n",
      "PROPPANT_MASS_USED             0\n",
      "PROPPANT_MASS_UOM              0\n",
      "VOLUME_PUMPED_GALLONS          0\n",
      "AVERAGE_STP                    0\n",
      "AVERAGE_STP_UOM                0\n",
      "FRACTURE_GRADIENT              0\n",
      "FRACTURE_GRADIENT_UOM          0\n",
      "MD_MIDDLE_PERFORATION          0\n",
      "MD_MIDDLE_PERFORATION_UOM      0\n",
      "TVD_DEPTH                      0\n",
      "TOP_DEPTH                      0\n",
      "WELL_LATITUDE                  0\n",
      "WELL_LONGITUDE                 0\n",
      "MIN_STP                        0\n",
      "MIN_STP_UOM                    0\n",
      "MAX_STP                        0\n",
      "MAX_STP_UOM                    0\n",
      "UPPER_PERF                     0\n",
      "LOWER_PERF                     0\n",
      "TRUE_VERTICAL_DEPTH            0\n",
      "WELL_HORZ_LENGTH               0\n",
      "NET_PROD_DAYS                  0\n",
      "LIQ_CUM_BBLS                 338\n",
      "dtype: int64\n"
     ]
    }
   ],
   "source": [
    "test_data = pd.read_excel('IntroEngDataScienceFinalProjectTestModelOutput.xlsx')\n",
    "print(test_data.head())\n",
    "print(test_data.isnull().sum())"
   ]
  },
  {
   "cell_type": "code",
   "execution_count": 126,
   "metadata": {
    "collapsed": true
   },
   "outputs": [],
   "source": [
    "\n",
    "test_data=test_data.drop(labels=['JOB_DESC_STAGING','PROPPANT_MESH_DESCRIPTION','PROPPANT_MASS_UOM',\n",
    "          'AVERAGE_STP_UOM','FRACTURE_GRADIENT_UOM','MD_MIDDLE_PERFORATION_UOM','MIN_STP_UOM',\n",
    "          'MAX_STP_UOM'], axis = 1)"
   ]
  },
  {
   "cell_type": "code",
   "execution_count": 127,
   "metadata": {
    "collapsed": true
   },
   "outputs": [],
   "source": [
    "# Count the number of rows\n",
    "Count = rowcount(test_data)"
   ]
  },
  {
   "cell_type": "code",
   "execution_count": 128,
   "metadata": {
    "collapsed": false
   },
   "outputs": [
    {
     "name": "stdout",
     "output_type": "stream",
     "text": [
      "   No of rows  Well ID\n",
      "0          66        1\n",
      "1           3        5\n",
      "2          50        9\n",
      "3          58       13\n",
      "4          67       17\n",
      "5          34       20\n",
      "6          60       27\n"
     ]
    }
   ],
   "source": [
    "print(Count)"
   ]
  },
  {
   "cell_type": "code",
   "execution_count": 129,
   "metadata": {
    "collapsed": false
   },
   "outputs": [
    {
     "name": "stdout",
     "output_type": "stream",
     "text": [
      "   WELL_ID  PROPPANT_MASS_USED  VOLUME_PUMPED_GALLONS  AVERAGE_STP  \\\n",
      "0        1                7219               14805348       297180   \n",
      "1        5                 618                 257683        17916   \n",
      "2        9                8868                8099427       278880   \n",
      "3       13               12287                6002579       251602   \n",
      "4       17               37775                7274959       351314   \n",
      "\n",
      "   FRACTURE_GRADIENT  MD_MIDDLE_PERFORATION  TVD_DEPTH  TOP_DEPTH  \\\n",
      "0              50.16               672484.0     377718     934230   \n",
      "1               2.25                41838.0      19749      43671   \n",
      "2              40.00               535220.0     332650     725100   \n",
      "3              44.08               596267.0     362500     800168   \n",
      "4              50.92               726750.0     437644     999506   \n",
      "\n",
      "   WELL_LATITUDE  WELL_LONGITUDE  MIN_STP  MAX_STP  UPPER_PERF  LOWER_PERF  \\\n",
      "0     2046.01650     -6664.53810   230044   466374      413160      927960   \n",
      "1       93.39516      -303.47820    17103    18519       20808       43671   \n",
      "2     1569.85600     -5058.59300   127168   329624      348750      721250   \n",
      "3     1808.08620     -5859.85136   178700   321976      393240      794542   \n",
      "4     2085.86410     -6771.89368   254762   461354      452853      989657   \n",
      "\n",
      "   TRUE_VERTICAL_DEPTH  WELL_HORZ_LENGTH  NET_PROD_DAYS  LIQ_CUM_BBLS  Count  \n",
      "0               383460            550770          44220           NaN     66  \n",
      "1                19749             23922           4473           NaN      3  \n",
      "2               332800            392300          44200           NaN     50  \n",
      "3               364646            435522          42398           NaN     58  \n",
      "4               437644            561862          46900           NaN     67  \n"
     ]
    }
   ],
   "source": [
    "# group the data by the well ID\n",
    "test_group =test_data.groupby('WELL_ID', as_index = False)\n",
    "test_group=test_group.sum()\n",
    "test_group['Count'] = Count['No of rows']\n",
    "print(test_group.head())"
   ]
  },
  {
   "cell_type": "code",
   "execution_count": 130,
   "metadata": {
    "collapsed": true
   },
   "outputs": [],
   "source": [
    "old_column_names = ['NET_PROD_DAYS','WELL_HORZ_LENGTH','TRUE_VERTICAL_DEPTH'\n",
    "                   ,'LOWER_PERF','UPPER_PERF','MAX_STP','MIN_STP','WELL_LONGITUDE','WELL_LATITUDE',\n",
    "                   'TOP_DEPTH','TVD_DEPTH','MD_MIDDLE_PERFORATION','FRACTURE_GRADIENT','AVERAGE_STP']\n",
    "# new column names\n",
    "new_column_names=['Mean Production days','Mean Horizontal length',\n",
    " 'Mean True Vertical Distance','Mean Lower perforation','Mean Upper perforation','Mean Maximum STP',\n",
    "'Mean Minimum STP','Longitude','Latitude','Mean TOP Depth','Mean TVD depth','Mean Mid perforation',\n",
    " 'Mean Fracture Gradient','Mean STP']"
   ]
  },
  {
   "cell_type": "code",
   "execution_count": 131,
   "metadata": {
    "collapsed": false
   },
   "outputs": [],
   "source": [
    "# Compute the mean and generate new columns using the predefined columns\n",
    "mean_calculator(test_group,old_column_names=old_column_names,new_column_names=new_column_names)"
   ]
  },
  {
   "cell_type": "code",
   "execution_count": 132,
   "metadata": {
    "collapsed": true
   },
   "outputs": [],
   "source": [
    "# Drop some  columns\n",
    "test_group=test_group.drop(labels= ['AVERAGE_STP','FRACTURE_GRADIENT','MD_MIDDLE_PERFORATION','TVD_DEPTH',\n",
    "                 'TOP_DEPTH','WELL_LATITUDE','WELL_LONGITUDE','MIN_STP','MAX_STP','UPPER_PERF',\n",
    "                 'LOWER_PERF','TRUE_VERTICAL_DEPTH','WELL_HORZ_LENGTH','NET_PROD_DAYS'\n",
    "                 ], axis = 1)"
   ]
  },
  {
   "cell_type": "code",
   "execution_count": 133,
   "metadata": {
    "collapsed": true
   },
   "outputs": [],
   "source": [
    "Xtest=test_group.drop(labels=['Count','WELL_ID','Latitude','Longitude','Mean True Vertical Distance'], axis = 1)"
   ]
  },
  {
   "cell_type": "code",
   "execution_count": 134,
   "metadata": {
    "collapsed": true
   },
   "outputs": [],
   "source": [
    "# re-index the column based on the selected features\n",
    "Xtest = Xtest[['PROPPANT_MASS_USED', 'Mean STP', 'Mean Fracture Gradient',\n",
    "       'Mean Mid perforation', 'Mean TVD depth', 'Mean TOP Depth',\n",
    "       'Mean Minimum STP', 'Mean Maximum STP', 'Mean Upper perforation',\n",
    "       'Mean Lower perforation', 'Mean Horizontal length',\n",
    "       'Mean Production days','LIQ_CUM_BBLS']]"
   ]
  },
  {
   "cell_type": "code",
   "execution_count": 135,
   "metadata": {
    "collapsed": false
   },
   "outputs": [
    {
     "name": "stdout",
     "output_type": "stream",
     "text": [
      "   PROPPANT_MASS_USED     Mean STP  Mean Fracture Gradient  \\\n",
      "0                7219  4502.727273                    0.76   \n",
      "1                 618  5972.000000                    0.75   \n",
      "2                8868  5577.600000                    0.80   \n",
      "3               12287  4337.965517                    0.76   \n",
      "4               37775  5243.492537                    0.76   \n",
      "5               18503  5990.323529                    0.76   \n",
      "6               45934  5743.000000                    0.65   \n",
      "\n",
      "   Mean Mid perforation  Mean TVD depth  Mean TOP Depth  Mean Minimum STP  \\\n",
      "0          10189.151515          5723.0         14155.0       3485.515152   \n",
      "1          13946.000000          6583.0         14557.0       5701.000000   \n",
      "2          10704.400000          6653.0         14502.0       2543.360000   \n",
      "3          10280.465517          6250.0         13796.0       3081.034483   \n",
      "4          10847.014925          6532.0         14918.0       3802.417910   \n",
      "5           9555.088235          7069.0         11727.0       5008.382353   \n",
      "6          11733.866667          7966.0         14850.0       4855.466667   \n",
      "\n",
      "   Mean Maximum STP  Mean Upper perforation  Mean Lower perforation  \\\n",
      "0       7066.272727                  6260.0                 14060.0   \n",
      "1       6173.000000                  6936.0                 14557.0   \n",
      "2       6592.480000                  6975.0                 14425.0   \n",
      "3       5551.310345                  6780.0                 13699.0   \n",
      "4       6885.880597                  6759.0                 14771.0   \n",
      "5       7532.441176                  7410.0                 11671.0   \n",
      "6       7041.033333                  8693.0                 14775.0   \n",
      "\n",
      "   Mean Horizontal length  Mean Production days  LIQ_CUM_BBLS  \n",
      "0                  8345.0                 670.0           NaN  \n",
      "1                  7974.0                1491.0           NaN  \n",
      "2                  7846.0                 884.0           NaN  \n",
      "3                  7509.0                 731.0           NaN  \n",
      "4                  8386.0                 700.0           NaN  \n",
      "5                  4608.0                 761.0           NaN  \n",
      "6                  6884.0                1188.0           NaN  \n"
     ]
    }
   ],
   "source": [
    "print(Xtest)"
   ]
  },
  {
   "cell_type": "code",
   "execution_count": 136,
   "metadata": {
    "collapsed": true
   },
   "outputs": [],
   "source": [
    "# Remove the liq cum column prior to Standardizing\n",
    "Xtestscale = Xtest[['PROPPANT_MASS_USED', 'Mean STP', 'Mean Fracture Gradient',\n",
    "       'Mean Mid perforation', 'Mean TVD depth', 'Mean TOP Depth',\n",
    "       'Mean Minimum STP', 'Mean Maximum STP', 'Mean Upper perforation',\n",
    "       'Mean Lower perforation', 'Mean Horizontal length',\n",
    "       'Mean Production days']]"
   ]
  },
  {
   "cell_type": "code",
   "execution_count": 137,
   "metadata": {
    "collapsed": false
   },
   "outputs": [
    {
     "data": {
      "text/plain": [
       "array([[-0.73904507, -1.33153288,  0.26637086, -0.63208293, -1.48074612,\n",
       "         0.08100803, -0.5491714 ,  0.61611551, -1.19404533,  0.06505822,\n",
       "         0.8021137 , -0.86780205],\n",
       "       [-1.16235774,  1.01023398,  0.03329636,  2.17012293, -0.15325667,\n",
       "         0.47403666,  1.53900299, -0.85347351, -0.25124164,  0.55496634,\n",
       "         0.4985891 ,  2.00669845],\n",
       "       [-0.63329707,  0.38162852,  1.19866888, -0.24776284, -0.04520521,\n",
       "         0.42026409, -1.43718662, -0.16335594, -0.19684912,  0.4248499 ,\n",
       "         0.39386903, -0.11854126],\n",
       "       [-0.4140415 , -1.59413465,  0.26637086, -0.56397248, -0.66727294,\n",
       "        -0.26998022, -0.93040902, -1.87626114, -0.46881172, -0.29079053,\n",
       "         0.11816071, -0.65422771],\n",
       "       [ 1.22046738, -0.15088104,  0.26637086, -0.14138741, -0.23197988,\n",
       "         0.82698028, -0.25047912,  0.31933907, -0.49810001,  0.7659127 ,\n",
       "         0.83565684, -0.76276549],\n",
       "       [-0.01541834,  1.03943852,  0.26637086, -1.1050261 ,  0.59692923,\n",
       "        -2.29280666,  0.88618587,  1.3830437 ,  0.40983668, -2.28985224,\n",
       "        -2.25522161, -0.54919115],\n",
       "       [ 1.74369234,  0.64524755, -2.2974487 ,  0.52010883,  1.98153159,\n",
       "         0.76049782,  0.74205732,  0.57459231,  2.19921114,  0.76985562,\n",
       "        -0.39316778,  0.94582921]])"
      ]
     },
     "execution_count": 137,
     "metadata": {},
     "output_type": "execute_result"
    }
   ],
   "source": [
    "#Standardize\n",
    "Scaled.fit(Xtestscale)\n",
    "Scaled.transform(Xtestscale)"
   ]
  },
  {
   "cell_type": "markdown",
   "metadata": {},
   "source": [
    "We use the multilayer perceptron to predict the liquid produced column "
   ]
  },
  {
   "cell_type": "code",
   "execution_count": 138,
   "metadata": {
    "collapsed": true
   },
   "outputs": [],
   "source": [
    "Xtest['LIQ_CUM_BBLS'] = MLPR.predict(Xtestscale)"
   ]
  },
  {
   "cell_type": "code",
   "execution_count": 139,
   "metadata": {
    "collapsed": false
   },
   "outputs": [
    {
     "name": "stdout",
     "output_type": "stream",
     "text": [
      "   PROPPANT_MASS_USED     Mean STP  Mean Fracture Gradient  \\\n",
      "0                7219  4502.727273                    0.76   \n",
      "1                 618  5972.000000                    0.75   \n",
      "2                8868  5577.600000                    0.80   \n",
      "3               12287  4337.965517                    0.76   \n",
      "4               37775  5243.492537                    0.76   \n",
      "5               18503  5990.323529                    0.76   \n",
      "6               45934  5743.000000                    0.65   \n",
      "\n",
      "   Mean Mid perforation  Mean TVD depth  Mean TOP Depth  Mean Minimum STP  \\\n",
      "0          10189.151515          5723.0         14155.0       3485.515152   \n",
      "1          13946.000000          6583.0         14557.0       5701.000000   \n",
      "2          10704.400000          6653.0         14502.0       2543.360000   \n",
      "3          10280.465517          6250.0         13796.0       3081.034483   \n",
      "4          10847.014925          6532.0         14918.0       3802.417910   \n",
      "5           9555.088235          7069.0         11727.0       5008.382353   \n",
      "6          11733.866667          7966.0         14850.0       4855.466667   \n",
      "\n",
      "   Mean Maximum STP  Mean Upper perforation  Mean Lower perforation  \\\n",
      "0       7066.272727                  6260.0                 14060.0   \n",
      "1       6173.000000                  6936.0                 14557.0   \n",
      "2       6592.480000                  6975.0                 14425.0   \n",
      "3       5551.310345                  6780.0                 13699.0   \n",
      "4       6885.880597                  6759.0                 14771.0   \n",
      "5       7532.441176                  7410.0                 11671.0   \n",
      "6       7041.033333                  8693.0                 14775.0   \n",
      "\n",
      "   Mean Horizontal length  Mean Production days   LIQ_CUM_BBLS  \n",
      "0                  8345.0                 670.0   75964.973443  \n",
      "1                  7974.0                1491.0  218326.808322  \n",
      "2                  7846.0                 884.0   29174.453617  \n",
      "3                  7509.0                 731.0   42287.294083  \n",
      "4                  8386.0                 700.0   63675.484749  \n",
      "5                  4608.0                 761.0   35751.015851  \n",
      "6                  6884.0                1188.0   25599.437312  \n"
     ]
    }
   ],
   "source": [
    "print(Xtest)"
   ]
  },
  {
   "cell_type": "code",
   "execution_count": 140,
   "metadata": {
    "collapsed": false
   },
   "outputs": [],
   "source": [
    "Xtest['Well ID'] = test_group['WELL_ID']"
   ]
  },
  {
   "cell_type": "code",
   "execution_count": 141,
   "metadata": {
    "collapsed": false
   },
   "outputs": [
    {
     "name": "stdout",
     "output_type": "stream",
     "text": [
      "   PROPPANT_MASS_USED     Mean STP  Mean Fracture Gradient  \\\n",
      "0                7219  4502.727273                    0.76   \n",
      "1                 618  5972.000000                    0.75   \n",
      "2                8868  5577.600000                    0.80   \n",
      "3               12287  4337.965517                    0.76   \n",
      "4               37775  5243.492537                    0.76   \n",
      "5               18503  5990.323529                    0.76   \n",
      "6               45934  5743.000000                    0.65   \n",
      "\n",
      "   Mean Mid perforation  Mean TVD depth  Mean TOP Depth  Mean Minimum STP  \\\n",
      "0          10189.151515          5723.0         14155.0       3485.515152   \n",
      "1          13946.000000          6583.0         14557.0       5701.000000   \n",
      "2          10704.400000          6653.0         14502.0       2543.360000   \n",
      "3          10280.465517          6250.0         13796.0       3081.034483   \n",
      "4          10847.014925          6532.0         14918.0       3802.417910   \n",
      "5           9555.088235          7069.0         11727.0       5008.382353   \n",
      "6          11733.866667          7966.0         14850.0       4855.466667   \n",
      "\n",
      "   Mean Maximum STP  Mean Upper perforation  Mean Lower perforation  \\\n",
      "0       7066.272727                  6260.0                 14060.0   \n",
      "1       6173.000000                  6936.0                 14557.0   \n",
      "2       6592.480000                  6975.0                 14425.0   \n",
      "3       5551.310345                  6780.0                 13699.0   \n",
      "4       6885.880597                  6759.0                 14771.0   \n",
      "5       7532.441176                  7410.0                 11671.0   \n",
      "6       7041.033333                  8693.0                 14775.0   \n",
      "\n",
      "   Mean Horizontal length  Mean Production days   LIQ_CUM_BBLS  Well ID  \n",
      "0                  8345.0                 670.0   75964.973443        1  \n",
      "1                  7974.0                1491.0  218326.808322        5  \n",
      "2                  7846.0                 884.0   29174.453617        9  \n",
      "3                  7509.0                 731.0   42287.294083       13  \n",
      "4                  8386.0                 700.0   63675.484749       17  \n",
      "5                  4608.0                 761.0   35751.015851       20  \n",
      "6                  6884.0                1188.0   25599.437312       27  \n"
     ]
    }
   ],
   "source": [
    "print(Xtest)"
   ]
  },
  {
   "cell_type": "code",
   "execution_count": 142,
   "metadata": {
    "collapsed": false
   },
   "outputs": [
    {
     "data": {
      "text/html": [
       "<div>\n",
       "<style scoped>\n",
       "    .dataframe tbody tr th:only-of-type {\n",
       "        vertical-align: middle;\n",
       "    }\n",
       "\n",
       "    .dataframe tbody tr th {\n",
       "        vertical-align: top;\n",
       "    }\n",
       "\n",
       "    .dataframe thead th {\n",
       "        text-align: right;\n",
       "    }\n",
       "</style>\n",
       "<table border=\"1\" class=\"dataframe\">\n",
       "  <thead>\n",
       "    <tr style=\"text-align: right;\">\n",
       "      <th></th>\n",
       "      <th>PROPPANT_MASS_USED</th>\n",
       "      <th>Mean STP</th>\n",
       "      <th>Mean Fracture Gradient</th>\n",
       "      <th>Mean Mid perforation</th>\n",
       "      <th>Mean TVD depth</th>\n",
       "      <th>Mean TOP Depth</th>\n",
       "      <th>Mean Minimum STP</th>\n",
       "      <th>Mean Maximum STP</th>\n",
       "      <th>Mean Upper perforation</th>\n",
       "      <th>Mean Lower perforation</th>\n",
       "      <th>Mean Horizontal length</th>\n",
       "      <th>Mean Production days</th>\n",
       "      <th>LIQ_CUM_BBLS</th>\n",
       "      <th>Well ID</th>\n",
       "    </tr>\n",
       "  </thead>\n",
       "  <tbody>\n",
       "    <tr>\n",
       "      <th>0</th>\n",
       "      <td>7219</td>\n",
       "      <td>4502.727273</td>\n",
       "      <td>0.76</td>\n",
       "      <td>10189.151515</td>\n",
       "      <td>5723.0</td>\n",
       "      <td>14155.0</td>\n",
       "      <td>3485.515152</td>\n",
       "      <td>7066.272727</td>\n",
       "      <td>6260.0</td>\n",
       "      <td>14060.0</td>\n",
       "      <td>8345.0</td>\n",
       "      <td>670.0</td>\n",
       "      <td>75964.973443</td>\n",
       "      <td>1</td>\n",
       "    </tr>\n",
       "    <tr>\n",
       "      <th>1</th>\n",
       "      <td>618</td>\n",
       "      <td>5972.000000</td>\n",
       "      <td>0.75</td>\n",
       "      <td>13946.000000</td>\n",
       "      <td>6583.0</td>\n",
       "      <td>14557.0</td>\n",
       "      <td>5701.000000</td>\n",
       "      <td>6173.000000</td>\n",
       "      <td>6936.0</td>\n",
       "      <td>14557.0</td>\n",
       "      <td>7974.0</td>\n",
       "      <td>1491.0</td>\n",
       "      <td>218326.808322</td>\n",
       "      <td>5</td>\n",
       "    </tr>\n",
       "    <tr>\n",
       "      <th>2</th>\n",
       "      <td>8868</td>\n",
       "      <td>5577.600000</td>\n",
       "      <td>0.80</td>\n",
       "      <td>10704.400000</td>\n",
       "      <td>6653.0</td>\n",
       "      <td>14502.0</td>\n",
       "      <td>2543.360000</td>\n",
       "      <td>6592.480000</td>\n",
       "      <td>6975.0</td>\n",
       "      <td>14425.0</td>\n",
       "      <td>7846.0</td>\n",
       "      <td>884.0</td>\n",
       "      <td>29174.453617</td>\n",
       "      <td>9</td>\n",
       "    </tr>\n",
       "    <tr>\n",
       "      <th>3</th>\n",
       "      <td>12287</td>\n",
       "      <td>4337.965517</td>\n",
       "      <td>0.76</td>\n",
       "      <td>10280.465517</td>\n",
       "      <td>6250.0</td>\n",
       "      <td>13796.0</td>\n",
       "      <td>3081.034483</td>\n",
       "      <td>5551.310345</td>\n",
       "      <td>6780.0</td>\n",
       "      <td>13699.0</td>\n",
       "      <td>7509.0</td>\n",
       "      <td>731.0</td>\n",
       "      <td>42287.294083</td>\n",
       "      <td>13</td>\n",
       "    </tr>\n",
       "    <tr>\n",
       "      <th>4</th>\n",
       "      <td>37775</td>\n",
       "      <td>5243.492537</td>\n",
       "      <td>0.76</td>\n",
       "      <td>10847.014925</td>\n",
       "      <td>6532.0</td>\n",
       "      <td>14918.0</td>\n",
       "      <td>3802.417910</td>\n",
       "      <td>6885.880597</td>\n",
       "      <td>6759.0</td>\n",
       "      <td>14771.0</td>\n",
       "      <td>8386.0</td>\n",
       "      <td>700.0</td>\n",
       "      <td>63675.484749</td>\n",
       "      <td>17</td>\n",
       "    </tr>\n",
       "    <tr>\n",
       "      <th>5</th>\n",
       "      <td>18503</td>\n",
       "      <td>5990.323529</td>\n",
       "      <td>0.76</td>\n",
       "      <td>9555.088235</td>\n",
       "      <td>7069.0</td>\n",
       "      <td>11727.0</td>\n",
       "      <td>5008.382353</td>\n",
       "      <td>7532.441176</td>\n",
       "      <td>7410.0</td>\n",
       "      <td>11671.0</td>\n",
       "      <td>4608.0</td>\n",
       "      <td>761.0</td>\n",
       "      <td>35751.015851</td>\n",
       "      <td>20</td>\n",
       "    </tr>\n",
       "    <tr>\n",
       "      <th>6</th>\n",
       "      <td>45934</td>\n",
       "      <td>5743.000000</td>\n",
       "      <td>0.65</td>\n",
       "      <td>11733.866667</td>\n",
       "      <td>7966.0</td>\n",
       "      <td>14850.0</td>\n",
       "      <td>4855.466667</td>\n",
       "      <td>7041.033333</td>\n",
       "      <td>8693.0</td>\n",
       "      <td>14775.0</td>\n",
       "      <td>6884.0</td>\n",
       "      <td>1188.0</td>\n",
       "      <td>25599.437312</td>\n",
       "      <td>27</td>\n",
       "    </tr>\n",
       "  </tbody>\n",
       "</table>\n",
       "</div>"
      ],
      "text/plain": [
       "   PROPPANT_MASS_USED     Mean STP  Mean Fracture Gradient  \\\n",
       "0                7219  4502.727273                    0.76   \n",
       "1                 618  5972.000000                    0.75   \n",
       "2                8868  5577.600000                    0.80   \n",
       "3               12287  4337.965517                    0.76   \n",
       "4               37775  5243.492537                    0.76   \n",
       "5               18503  5990.323529                    0.76   \n",
       "6               45934  5743.000000                    0.65   \n",
       "\n",
       "   Mean Mid perforation  Mean TVD depth  Mean TOP Depth  Mean Minimum STP  \\\n",
       "0          10189.151515          5723.0         14155.0       3485.515152   \n",
       "1          13946.000000          6583.0         14557.0       5701.000000   \n",
       "2          10704.400000          6653.0         14502.0       2543.360000   \n",
       "3          10280.465517          6250.0         13796.0       3081.034483   \n",
       "4          10847.014925          6532.0         14918.0       3802.417910   \n",
       "5           9555.088235          7069.0         11727.0       5008.382353   \n",
       "6          11733.866667          7966.0         14850.0       4855.466667   \n",
       "\n",
       "   Mean Maximum STP  Mean Upper perforation  Mean Lower perforation  \\\n",
       "0       7066.272727                  6260.0                 14060.0   \n",
       "1       6173.000000                  6936.0                 14557.0   \n",
       "2       6592.480000                  6975.0                 14425.0   \n",
       "3       5551.310345                  6780.0                 13699.0   \n",
       "4       6885.880597                  6759.0                 14771.0   \n",
       "5       7532.441176                  7410.0                 11671.0   \n",
       "6       7041.033333                  8693.0                 14775.0   \n",
       "\n",
       "   Mean Horizontal length  Mean Production days   LIQ_CUM_BBLS  Well ID  \n",
       "0                  8345.0                 670.0   75964.973443        1  \n",
       "1                  7974.0                1491.0  218326.808322        5  \n",
       "2                  7846.0                 884.0   29174.453617        9  \n",
       "3                  7509.0                 731.0   42287.294083       13  \n",
       "4                  8386.0                 700.0   63675.484749       17  \n",
       "5                  4608.0                 761.0   35751.015851       20  \n",
       "6                  6884.0                1188.0   25599.437312       27  "
      ]
     },
     "execution_count": 142,
     "metadata": {},
     "output_type": "execute_result"
    }
   ],
   "source": [
    "Xtest"
   ]
  },
  {
   "cell_type": "markdown",
   "metadata": {},
   "source": [
    "Export the result to a csv file"
   ]
  },
  {
   "cell_type": "code",
   "execution_count": 143,
   "metadata": {
    "collapsed": true
   },
   "outputs": [],
   "source": [
    "# export to a csv\n",
    "Xtest.to_csv('FinalResult.csv')"
   ]
  },
  {
   "cell_type": "code",
   "execution_count": null,
   "metadata": {
    "collapsed": true
   },
   "outputs": [],
   "source": []
  },
  {
   "cell_type": "code",
   "execution_count": null,
   "metadata": {
    "collapsed": true
   },
   "outputs": [],
   "source": []
  },
  {
   "cell_type": "code",
   "execution_count": null,
   "metadata": {
    "collapsed": true
   },
   "outputs": [],
   "source": []
  }
 ],
 "metadata": {
  "anaconda-cloud": {},
  "kernelspec": {
   "display_name": "Python [conda root]",
   "language": "python",
   "name": "conda-root-py"
  },
  "language_info": {
   "codemirror_mode": {
    "name": "ipython",
    "version": 3
   },
   "file_extension": ".py",
   "mimetype": "text/x-python",
   "name": "python",
   "nbconvert_exporter": "python",
   "pygments_lexer": "ipython3",
   "version": "3.5.2"
  }
 },
 "nbformat": 4,
 "nbformat_minor": 2
}
