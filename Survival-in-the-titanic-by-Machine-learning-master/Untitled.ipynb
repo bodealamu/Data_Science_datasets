{
 "cells": [
  {
   "cell_type": "code",
   "execution_count": null,
   "metadata": {
    "collapsed": true
   },
   "outputs": [],
   "source": [
    "# Basic Statistics for the Age column\n",
    "Age_missing = titanic['Age'].isnull().sum()\n",
    "Mean_age = titanic['Age'].mean()\n",
    "Std_age = titanic['Age'].std()\n",
    "\n",
    "# Generate random age values that would be between mean-std and mean+std\n",
    "random_age = np.random.randint(low =(Mean_age-Std_age) , high= (Mean_age+Std_age), size= Age_missing)\n",
    "\n",
    " dates = pd.date_range('1/1/2000', periods=8)\n",
    "    df = pd.DataFrame(np.random.randn(8, 4), index=dates, columns=['A', 'B', 'C', 'D'])\n",
    "df['B']= np.nan\n",
    "\n",
    "df.loc[:,'B'][np.isnan(df['B'])]= filll\n",
    "\n",
    "def fill_missing(dataframe, column, random_numbers):\n",
    "    count = 0\n",
    "    import numpy as np\n",
    "    X = dataframe[np.isnan(dataframe['Age'])]['Age']\n",
    "    for row in X:\n",
    "        X.fillna(value = random_numbers[count])\n",
    "        count = +1"
   ]
  }
 ],
 "metadata": {
  "kernelspec": {
   "display_name": "Python 3",
   "language": "python",
   "name": "python3"
  },
  "language_info": {
   "codemirror_mode": {
    "name": "ipython",
    "version": 3
   },
   "file_extension": ".py",
   "mimetype": "text/x-python",
   "name": "python",
   "nbconvert_exporter": "python",
   "pygments_lexer": "ipython3",
   "version": "3.6.3"
  }
 },
 "nbformat": 4,
 "nbformat_minor": 2
}
